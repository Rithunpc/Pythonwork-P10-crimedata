{
 "cells": [
  {
   "cell_type": "code",
   "execution_count": 1,
   "id": "0df842fa",
   "metadata": {},
   "outputs": [
    {
     "data": {
      "text/html": [
       "<div>\n",
       "<style scoped>\n",
       "    .dataframe tbody tr th:only-of-type {\n",
       "        vertical-align: middle;\n",
       "    }\n",
       "\n",
       "    .dataframe tbody tr th {\n",
       "        vertical-align: top;\n",
       "    }\n",
       "\n",
       "    .dataframe thead th {\n",
       "        text-align: right;\n",
       "    }\n",
       "</style>\n",
       "<table border=\"1\" class=\"dataframe\">\n",
       "  <thead>\n",
       "    <tr style=\"text-align: right;\">\n",
       "      <th></th>\n",
       "      <th>Record ID</th>\n",
       "      <th>Agency Code</th>\n",
       "      <th>Agency Name</th>\n",
       "      <th>Agency Type</th>\n",
       "      <th>City</th>\n",
       "      <th>State</th>\n",
       "      <th>Year</th>\n",
       "      <th>Month</th>\n",
       "      <th>Incident</th>\n",
       "      <th>Crime Type</th>\n",
       "      <th>...</th>\n",
       "      <th>Victim Ethnicity</th>\n",
       "      <th>Perpetrator Sex</th>\n",
       "      <th>Perpetrator Age</th>\n",
       "      <th>Perpetrator Race</th>\n",
       "      <th>Perpetrator Ethnicity</th>\n",
       "      <th>Relationship</th>\n",
       "      <th>Weapon</th>\n",
       "      <th>Victim Count</th>\n",
       "      <th>Perpetrator Count</th>\n",
       "      <th>Record Source</th>\n",
       "    </tr>\n",
       "  </thead>\n",
       "  <tbody>\n",
       "    <tr>\n",
       "      <th>0</th>\n",
       "      <td>1</td>\n",
       "      <td>AK00101</td>\n",
       "      <td>Anchorage</td>\n",
       "      <td>Municipal Police</td>\n",
       "      <td>Anchorage</td>\n",
       "      <td>Alaska</td>\n",
       "      <td>2000</td>\n",
       "      <td>January</td>\n",
       "      <td>NaN</td>\n",
       "      <td>Murder or Manslaughter</td>\n",
       "      <td>...</td>\n",
       "      <td>Unknown</td>\n",
       "      <td>Male</td>\n",
       "      <td>28</td>\n",
       "      <td>Black</td>\n",
       "      <td>Unknown</td>\n",
       "      <td>Wife</td>\n",
       "      <td>Handgun</td>\n",
       "      <td>0</td>\n",
       "      <td>0</td>\n",
       "      <td>FBI</td>\n",
       "    </tr>\n",
       "    <tr>\n",
       "      <th>1</th>\n",
       "      <td>2</td>\n",
       "      <td>AK00101</td>\n",
       "      <td>Anchorage</td>\n",
       "      <td>Municipal Police</td>\n",
       "      <td>Anchorage</td>\n",
       "      <td>Alaska</td>\n",
       "      <td>2000</td>\n",
       "      <td>January</td>\n",
       "      <td>NaN</td>\n",
       "      <td>Murder or Manslaughter</td>\n",
       "      <td>...</td>\n",
       "      <td>Unknown</td>\n",
       "      <td>Male</td>\n",
       "      <td>18</td>\n",
       "      <td>Native American/Alaska Native</td>\n",
       "      <td>Unknown</td>\n",
       "      <td>Unknown</td>\n",
       "      <td>Handgun</td>\n",
       "      <td>0</td>\n",
       "      <td>1</td>\n",
       "      <td>FBI</td>\n",
       "    </tr>\n",
       "    <tr>\n",
       "      <th>2</th>\n",
       "      <td>3</td>\n",
       "      <td>AK00101</td>\n",
       "      <td>Anchorage</td>\n",
       "      <td>Municipal Police</td>\n",
       "      <td>Anchorage</td>\n",
       "      <td>Alaska</td>\n",
       "      <td>2000</td>\n",
       "      <td>January</td>\n",
       "      <td>NaN</td>\n",
       "      <td>Manslaughter by Negligence</td>\n",
       "      <td>...</td>\n",
       "      <td>Unknown</td>\n",
       "      <td>Male</td>\n",
       "      <td>12</td>\n",
       "      <td>Asian/Pacific Islander</td>\n",
       "      <td>Unknown</td>\n",
       "      <td>Family</td>\n",
       "      <td>Blunt Object</td>\n",
       "      <td>0</td>\n",
       "      <td>0</td>\n",
       "      <td>FBI</td>\n",
       "    </tr>\n",
       "    <tr>\n",
       "      <th>3</th>\n",
       "      <td>4</td>\n",
       "      <td>AK00101</td>\n",
       "      <td>Anchorage</td>\n",
       "      <td>Municipal Police</td>\n",
       "      <td>Anchorage</td>\n",
       "      <td>Alaska</td>\n",
       "      <td>2000</td>\n",
       "      <td>February</td>\n",
       "      <td>NaN</td>\n",
       "      <td>Manslaughter by Negligence</td>\n",
       "      <td>...</td>\n",
       "      <td>Unknown</td>\n",
       "      <td>Female</td>\n",
       "      <td>39</td>\n",
       "      <td>Asian/Pacific Islander</td>\n",
       "      <td>Unknown</td>\n",
       "      <td>Acquaintance</td>\n",
       "      <td>Blunt Object</td>\n",
       "      <td>0</td>\n",
       "      <td>0</td>\n",
       "      <td>FBI</td>\n",
       "    </tr>\n",
       "    <tr>\n",
       "      <th>4</th>\n",
       "      <td>5</td>\n",
       "      <td>AK00101</td>\n",
       "      <td>Anchorage</td>\n",
       "      <td>Municipal Police</td>\n",
       "      <td>Anchorage</td>\n",
       "      <td>Alaska</td>\n",
       "      <td>2000</td>\n",
       "      <td>March</td>\n",
       "      <td>NaN</td>\n",
       "      <td>Murder or Manslaughter</td>\n",
       "      <td>...</td>\n",
       "      <td>Unknown</td>\n",
       "      <td>Unknown</td>\n",
       "      <td>0</td>\n",
       "      <td>Unknown</td>\n",
       "      <td>Unknown</td>\n",
       "      <td>Unknown</td>\n",
       "      <td>Knife</td>\n",
       "      <td>0</td>\n",
       "      <td>0</td>\n",
       "      <td>FBI</td>\n",
       "    </tr>\n",
       "    <tr>\n",
       "      <th>...</th>\n",
       "      <td>...</td>\n",
       "      <td>...</td>\n",
       "      <td>...</td>\n",
       "      <td>...</td>\n",
       "      <td>...</td>\n",
       "      <td>...</td>\n",
       "      <td>...</td>\n",
       "      <td>...</td>\n",
       "      <td>...</td>\n",
       "      <td>...</td>\n",
       "      <td>...</td>\n",
       "      <td>...</td>\n",
       "      <td>...</td>\n",
       "      <td>...</td>\n",
       "      <td>...</td>\n",
       "      <td>...</td>\n",
       "      <td>...</td>\n",
       "      <td>...</td>\n",
       "      <td>...</td>\n",
       "      <td>...</td>\n",
       "      <td>...</td>\n",
       "    </tr>\n",
       "    <tr>\n",
       "      <th>221686</th>\n",
       "      <td>221687</td>\n",
       "      <td>WY01501</td>\n",
       "      <td>Cody</td>\n",
       "      <td>Municipal Police</td>\n",
       "      <td>Park</td>\n",
       "      <td>Wyoming</td>\n",
       "      <td>2012</td>\n",
       "      <td>February</td>\n",
       "      <td>NaN</td>\n",
       "      <td>Murder or Manslaughter</td>\n",
       "      <td>...</td>\n",
       "      <td>Unknown</td>\n",
       "      <td>Male</td>\n",
       "      <td>28</td>\n",
       "      <td>Native American/Alaska Native</td>\n",
       "      <td>Unknown</td>\n",
       "      <td>Wife</td>\n",
       "      <td>Knife</td>\n",
       "      <td>0</td>\n",
       "      <td>0</td>\n",
       "      <td>FBI</td>\n",
       "    </tr>\n",
       "    <tr>\n",
       "      <th>221687</th>\n",
       "      <td>221688</td>\n",
       "      <td>WY01701</td>\n",
       "      <td>Sheridan</td>\n",
       "      <td>Municipal Police</td>\n",
       "      <td>Sheridan</td>\n",
       "      <td>Wyoming</td>\n",
       "      <td>2012</td>\n",
       "      <td>September</td>\n",
       "      <td>NaN</td>\n",
       "      <td>Murder or Manslaughter</td>\n",
       "      <td>...</td>\n",
       "      <td>Unknown</td>\n",
       "      <td>Female</td>\n",
       "      <td>51</td>\n",
       "      <td>White</td>\n",
       "      <td>Unknown</td>\n",
       "      <td>Mother</td>\n",
       "      <td>Blunt Object</td>\n",
       "      <td>0</td>\n",
       "      <td>0</td>\n",
       "      <td>FBI</td>\n",
       "    </tr>\n",
       "    <tr>\n",
       "      <th>221688</th>\n",
       "      <td>221689</td>\n",
       "      <td>WY01900</td>\n",
       "      <td>Sweetwater County</td>\n",
       "      <td>Sheriff</td>\n",
       "      <td>Sweetwater</td>\n",
       "      <td>Wyoming</td>\n",
       "      <td>2012</td>\n",
       "      <td>August</td>\n",
       "      <td>NaN</td>\n",
       "      <td>Murder or Manslaughter</td>\n",
       "      <td>...</td>\n",
       "      <td>Unknown</td>\n",
       "      <td>Male</td>\n",
       "      <td>17</td>\n",
       "      <td>Asian/Pacific Islander</td>\n",
       "      <td>Unknown</td>\n",
       "      <td>Friend</td>\n",
       "      <td>Blunt Object</td>\n",
       "      <td>0</td>\n",
       "      <td>2</td>\n",
       "      <td>FBI</td>\n",
       "    </tr>\n",
       "    <tr>\n",
       "      <th>221689</th>\n",
       "      <td>221690</td>\n",
       "      <td>WY01902</td>\n",
       "      <td>Rock Springs</td>\n",
       "      <td>Municipal Police</td>\n",
       "      <td>Sweetwater</td>\n",
       "      <td>Wyoming</td>\n",
       "      <td>2012</td>\n",
       "      <td>February</td>\n",
       "      <td>NaN</td>\n",
       "      <td>Murder or Manslaughter</td>\n",
       "      <td>...</td>\n",
       "      <td>Unknown</td>\n",
       "      <td>Male</td>\n",
       "      <td>32</td>\n",
       "      <td>White</td>\n",
       "      <td>Unknown</td>\n",
       "      <td>Friend</td>\n",
       "      <td>Blunt Object</td>\n",
       "      <td>0</td>\n",
       "      <td>0</td>\n",
       "      <td>FBI</td>\n",
       "    </tr>\n",
       "    <tr>\n",
       "      <th>221690</th>\n",
       "      <td>221691</td>\n",
       "      <td>WY01902</td>\n",
       "      <td>Rock Springs</td>\n",
       "      <td>Municipal Police</td>\n",
       "      <td>Sweetwater</td>\n",
       "      <td>Wyoming</td>\n",
       "      <td>2012</td>\n",
       "      <td>July</td>\n",
       "      <td>NaN</td>\n",
       "      <td>Murder or Manslaughter</td>\n",
       "      <td>...</td>\n",
       "      <td>Unknown</td>\n",
       "      <td>Male</td>\n",
       "      <td>22</td>\n",
       "      <td>White</td>\n",
       "      <td>Unknown</td>\n",
       "      <td>Neighbor</td>\n",
       "      <td>Firearm</td>\n",
       "      <td>0</td>\n",
       "      <td>0</td>\n",
       "      <td>FBI</td>\n",
       "    </tr>\n",
       "  </tbody>\n",
       "</table>\n",
       "<p>221691 rows × 24 columns</p>\n",
       "</div>"
      ],
      "text/plain": [
       "        Record ID Agency Code        Agency Name       Agency Type  \\\n",
       "0               1     AK00101          Anchorage  Municipal Police   \n",
       "1               2     AK00101          Anchorage  Municipal Police   \n",
       "2               3     AK00101          Anchorage  Municipal Police   \n",
       "3               4     AK00101          Anchorage  Municipal Police   \n",
       "4               5     AK00101          Anchorage  Municipal Police   \n",
       "...           ...         ...                ...               ...   \n",
       "221686     221687     WY01501               Cody  Municipal Police   \n",
       "221687     221688     WY01701           Sheridan  Municipal Police   \n",
       "221688     221689     WY01900  Sweetwater County           Sheriff   \n",
       "221689     221690     WY01902       Rock Springs  Municipal Police   \n",
       "221690     221691     WY01902       Rock Springs  Municipal Police   \n",
       "\n",
       "              City    State  Year      Month  Incident  \\\n",
       "0        Anchorage   Alaska  2000    January       NaN   \n",
       "1        Anchorage   Alaska  2000    January       NaN   \n",
       "2        Anchorage   Alaska  2000    January       NaN   \n",
       "3        Anchorage   Alaska  2000   February       NaN   \n",
       "4        Anchorage   Alaska  2000      March       NaN   \n",
       "...            ...      ...   ...        ...       ...   \n",
       "221686        Park  Wyoming  2012   February       NaN   \n",
       "221687    Sheridan  Wyoming  2012  September       NaN   \n",
       "221688  Sweetwater  Wyoming  2012     August       NaN   \n",
       "221689  Sweetwater  Wyoming  2012   February       NaN   \n",
       "221690  Sweetwater  Wyoming  2012       July       NaN   \n",
       "\n",
       "                        Crime Type  ... Victim Ethnicity Perpetrator Sex  \\\n",
       "0           Murder or Manslaughter  ...          Unknown            Male   \n",
       "1           Murder or Manslaughter  ...          Unknown            Male   \n",
       "2       Manslaughter by Negligence  ...          Unknown            Male   \n",
       "3       Manslaughter by Negligence  ...          Unknown          Female   \n",
       "4           Murder or Manslaughter  ...          Unknown         Unknown   \n",
       "...                            ...  ...              ...             ...   \n",
       "221686      Murder or Manslaughter  ...          Unknown            Male   \n",
       "221687      Murder or Manslaughter  ...          Unknown          Female   \n",
       "221688      Murder or Manslaughter  ...          Unknown            Male   \n",
       "221689      Murder or Manslaughter  ...          Unknown            Male   \n",
       "221690      Murder or Manslaughter  ...          Unknown            Male   \n",
       "\n",
       "        Perpetrator Age               Perpetrator Race Perpetrator Ethnicity  \\\n",
       "0                    28                          Black               Unknown   \n",
       "1                    18  Native American/Alaska Native               Unknown   \n",
       "2                    12         Asian/Pacific Islander               Unknown   \n",
       "3                    39         Asian/Pacific Islander               Unknown   \n",
       "4                     0                        Unknown               Unknown   \n",
       "...                 ...                            ...                   ...   \n",
       "221686               28  Native American/Alaska Native               Unknown   \n",
       "221687               51                          White               Unknown   \n",
       "221688               17         Asian/Pacific Islander               Unknown   \n",
       "221689               32                          White               Unknown   \n",
       "221690               22                          White               Unknown   \n",
       "\n",
       "        Relationship        Weapon Victim Count Perpetrator Count  \\\n",
       "0               Wife       Handgun            0                 0   \n",
       "1            Unknown       Handgun            0                 1   \n",
       "2             Family  Blunt Object            0                 0   \n",
       "3       Acquaintance  Blunt Object            0                 0   \n",
       "4            Unknown         Knife            0                 0   \n",
       "...              ...           ...          ...               ...   \n",
       "221686          Wife         Knife            0                 0   \n",
       "221687        Mother  Blunt Object            0                 0   \n",
       "221688        Friend  Blunt Object            0                 2   \n",
       "221689        Friend  Blunt Object            0                 0   \n",
       "221690      Neighbor       Firearm            0                 0   \n",
       "\n",
       "       Record Source  \n",
       "0                FBI  \n",
       "1                FBI  \n",
       "2                FBI  \n",
       "3                FBI  \n",
       "4                FBI  \n",
       "...              ...  \n",
       "221686           FBI  \n",
       "221687           FBI  \n",
       "221688           FBI  \n",
       "221689           FBI  \n",
       "221690           FBI  \n",
       "\n",
       "[221691 rows x 24 columns]"
      ]
     },
     "execution_count": 1,
     "metadata": {},
     "output_type": "execute_result"
    }
   ],
   "source": [
    "import pandas as pd\n",
    "import seaborn as sns\n",
    "import matplotlib.pyplot as plt\n",
    "import numpy as np\n",
    "cd=pd.read_excel('Crime data.xlsx')\n",
    "cd"
   ]
  },
  {
   "cell_type": "code",
   "execution_count": 53,
   "id": "ae0fc586",
   "metadata": {},
   "outputs": [
    {
     "data": {
      "text/plain": [
       "Index(['Record ID', 'Agency Code', 'Agency Name', 'Agency Type', 'City',\n",
       "       'State', 'Year', 'Month', 'Incident', 'Crime Type', 'Crime Solved',\n",
       "       'Victim Sex', 'Victim Age', 'Victim Race', 'Victim Ethnicity',\n",
       "       'Perpetrator Sex', 'Perpetrator Age', 'Perpetrator Race',\n",
       "       'Perpetrator Ethnicity', 'Relationship', 'Weapon', 'Victim Count',\n",
       "       'Perpetrator Count', 'Record Source'],\n",
       "      dtype='object')"
      ]
     },
     "execution_count": 53,
     "metadata": {},
     "output_type": "execute_result"
    }
   ],
   "source": [
    "cd.columns"
   ]
  },
  {
   "cell_type": "code",
   "execution_count": 2,
   "id": "0e4eae7b",
   "metadata": {},
   "outputs": [
    {
     "name": "stdout",
     "output_type": "stream",
     "text": [
      "<class 'pandas.core.frame.DataFrame'>\n",
      "RangeIndex: 221691 entries, 0 to 221690\n",
      "Data columns (total 24 columns):\n",
      " #   Column                 Non-Null Count   Dtype  \n",
      "---  ------                 --------------   -----  \n",
      " 0   Record ID              221691 non-null  int64  \n",
      " 1   Agency Code            221691 non-null  object \n",
      " 2   Agency Name            221691 non-null  object \n",
      " 3   Agency Type            221691 non-null  object \n",
      " 4   City                   221691 non-null  object \n",
      " 5   State                  221691 non-null  object \n",
      " 6   Year                   221691 non-null  int64  \n",
      " 7   Month                  221691 non-null  object \n",
      " 8   Incident               0 non-null       float64\n",
      " 9   Crime Type             221691 non-null  object \n",
      " 10  Crime Solved           221691 non-null  object \n",
      " 11  Victim Sex             221691 non-null  object \n",
      " 12  Victim Age             221691 non-null  int64  \n",
      " 13  Victim Race            221691 non-null  object \n",
      " 14  Victim Ethnicity       221691 non-null  object \n",
      " 15  Perpetrator Sex        221691 non-null  object \n",
      " 16  Perpetrator Age        221691 non-null  int64  \n",
      " 17  Perpetrator Race       221691 non-null  object \n",
      " 18  Perpetrator Ethnicity  221691 non-null  object \n",
      " 19  Relationship           221691 non-null  object \n",
      " 20  Weapon                 221691 non-null  object \n",
      " 21  Victim Count           221691 non-null  int64  \n",
      " 22  Perpetrator Count      221691 non-null  int64  \n",
      " 23  Record Source          221691 non-null  object \n",
      "dtypes: float64(1), int64(6), object(17)\n",
      "memory usage: 40.6+ MB\n"
     ]
    }
   ],
   "source": [
    "cd.info()"
   ]
  },
  {
   "cell_type": "code",
   "execution_count": 3,
   "id": "026682a1",
   "metadata": {},
   "outputs": [],
   "source": [
    "cd1=cd.copy()"
   ]
  },
  {
   "cell_type": "code",
   "execution_count": 7,
   "id": "d4d72415",
   "metadata": {},
   "outputs": [
    {
     "name": "stderr",
     "output_type": "stream",
     "text": [
      "C:\\Users\\91984\\AppData\\Local\\Temp\\ipykernel_12216\\3630406611.py:1: FutureWarning: The default value of numeric_only in DataFrame.median is deprecated. In a future version, it will default to False. In addition, specifying 'numeric_only=None' is deprecated. Select only valid columns or specify the value of numeric_only to silence this warning.\n",
      "  cd.median()\n"
     ]
    },
    {
     "data": {
      "text/plain": [
       "Record ID            110846.0\n",
       "Year                   2006.0\n",
       "Incident                  NaN\n",
       "Victim Age               29.0\n",
       "Perpetrator Age          21.0\n",
       "Victim Count              0.0\n",
       "Perpetrator Count         0.0\n",
       "dtype: float64"
      ]
     },
     "execution_count": 7,
     "metadata": {},
     "output_type": "execute_result"
    }
   ],
   "source": [
    "cd.median()"
   ]
  },
  {
   "cell_type": "code",
   "execution_count": 10,
   "id": "6dc370bf",
   "metadata": {},
   "outputs": [
    {
     "data": {
      "text/html": [
       "<div>\n",
       "<style scoped>\n",
       "    .dataframe tbody tr th:only-of-type {\n",
       "        vertical-align: middle;\n",
       "    }\n",
       "\n",
       "    .dataframe tbody tr th {\n",
       "        vertical-align: top;\n",
       "    }\n",
       "\n",
       "    .dataframe thead th {\n",
       "        text-align: right;\n",
       "    }\n",
       "</style>\n",
       "<table border=\"1\" class=\"dataframe\">\n",
       "  <thead>\n",
       "    <tr style=\"text-align: right;\">\n",
       "      <th></th>\n",
       "      <th>Record ID</th>\n",
       "      <th>Agency Code</th>\n",
       "      <th>Agency Name</th>\n",
       "      <th>Agency Type</th>\n",
       "      <th>City</th>\n",
       "      <th>State</th>\n",
       "      <th>Year</th>\n",
       "      <th>Month</th>\n",
       "      <th>Incident</th>\n",
       "      <th>Crime Type</th>\n",
       "      <th>...</th>\n",
       "      <th>Victim Ethnicity</th>\n",
       "      <th>Perpetrator Sex</th>\n",
       "      <th>Perpetrator Age</th>\n",
       "      <th>Perpetrator Race</th>\n",
       "      <th>Perpetrator Ethnicity</th>\n",
       "      <th>Relationship</th>\n",
       "      <th>Weapon</th>\n",
       "      <th>Victim Count</th>\n",
       "      <th>Perpetrator Count</th>\n",
       "      <th>Record Source</th>\n",
       "    </tr>\n",
       "  </thead>\n",
       "  <tbody>\n",
       "    <tr>\n",
       "      <th>0</th>\n",
       "      <td>1</td>\n",
       "      <td>AK00101</td>\n",
       "      <td>Anchorage</td>\n",
       "      <td>Municipal Police</td>\n",
       "      <td>Anchorage</td>\n",
       "      <td>Alaska</td>\n",
       "      <td>2000</td>\n",
       "      <td>January</td>\n",
       "      <td>0.0</td>\n",
       "      <td>Murder or Manslaughter</td>\n",
       "      <td>...</td>\n",
       "      <td>Unknown</td>\n",
       "      <td>Male</td>\n",
       "      <td>28</td>\n",
       "      <td>Black</td>\n",
       "      <td>Unknown</td>\n",
       "      <td>Wife</td>\n",
       "      <td>Handgun</td>\n",
       "      <td>0</td>\n",
       "      <td>0</td>\n",
       "      <td>FBI</td>\n",
       "    </tr>\n",
       "    <tr>\n",
       "      <th>1</th>\n",
       "      <td>2</td>\n",
       "      <td>AK00101</td>\n",
       "      <td>Anchorage</td>\n",
       "      <td>Municipal Police</td>\n",
       "      <td>Anchorage</td>\n",
       "      <td>Alaska</td>\n",
       "      <td>2000</td>\n",
       "      <td>January</td>\n",
       "      <td>0.0</td>\n",
       "      <td>Murder or Manslaughter</td>\n",
       "      <td>...</td>\n",
       "      <td>Unknown</td>\n",
       "      <td>Male</td>\n",
       "      <td>18</td>\n",
       "      <td>Native American/Alaska Native</td>\n",
       "      <td>Unknown</td>\n",
       "      <td>Unknown</td>\n",
       "      <td>Handgun</td>\n",
       "      <td>0</td>\n",
       "      <td>1</td>\n",
       "      <td>FBI</td>\n",
       "    </tr>\n",
       "    <tr>\n",
       "      <th>2</th>\n",
       "      <td>3</td>\n",
       "      <td>AK00101</td>\n",
       "      <td>Anchorage</td>\n",
       "      <td>Municipal Police</td>\n",
       "      <td>Anchorage</td>\n",
       "      <td>Alaska</td>\n",
       "      <td>2000</td>\n",
       "      <td>January</td>\n",
       "      <td>0.0</td>\n",
       "      <td>Manslaughter by Negligence</td>\n",
       "      <td>...</td>\n",
       "      <td>Unknown</td>\n",
       "      <td>Male</td>\n",
       "      <td>12</td>\n",
       "      <td>Asian/Pacific Islander</td>\n",
       "      <td>Unknown</td>\n",
       "      <td>Family</td>\n",
       "      <td>Blunt Object</td>\n",
       "      <td>0</td>\n",
       "      <td>0</td>\n",
       "      <td>FBI</td>\n",
       "    </tr>\n",
       "    <tr>\n",
       "      <th>3</th>\n",
       "      <td>4</td>\n",
       "      <td>AK00101</td>\n",
       "      <td>Anchorage</td>\n",
       "      <td>Municipal Police</td>\n",
       "      <td>Anchorage</td>\n",
       "      <td>Alaska</td>\n",
       "      <td>2000</td>\n",
       "      <td>February</td>\n",
       "      <td>0.0</td>\n",
       "      <td>Manslaughter by Negligence</td>\n",
       "      <td>...</td>\n",
       "      <td>Unknown</td>\n",
       "      <td>Female</td>\n",
       "      <td>39</td>\n",
       "      <td>Asian/Pacific Islander</td>\n",
       "      <td>Unknown</td>\n",
       "      <td>Acquaintance</td>\n",
       "      <td>Blunt Object</td>\n",
       "      <td>0</td>\n",
       "      <td>0</td>\n",
       "      <td>FBI</td>\n",
       "    </tr>\n",
       "    <tr>\n",
       "      <th>4</th>\n",
       "      <td>5</td>\n",
       "      <td>AK00101</td>\n",
       "      <td>Anchorage</td>\n",
       "      <td>Municipal Police</td>\n",
       "      <td>Anchorage</td>\n",
       "      <td>Alaska</td>\n",
       "      <td>2000</td>\n",
       "      <td>March</td>\n",
       "      <td>0.0</td>\n",
       "      <td>Murder or Manslaughter</td>\n",
       "      <td>...</td>\n",
       "      <td>Unknown</td>\n",
       "      <td>Unknown</td>\n",
       "      <td>0</td>\n",
       "      <td>Unknown</td>\n",
       "      <td>Unknown</td>\n",
       "      <td>Unknown</td>\n",
       "      <td>Knife</td>\n",
       "      <td>0</td>\n",
       "      <td>0</td>\n",
       "      <td>FBI</td>\n",
       "    </tr>\n",
       "    <tr>\n",
       "      <th>...</th>\n",
       "      <td>...</td>\n",
       "      <td>...</td>\n",
       "      <td>...</td>\n",
       "      <td>...</td>\n",
       "      <td>...</td>\n",
       "      <td>...</td>\n",
       "      <td>...</td>\n",
       "      <td>...</td>\n",
       "      <td>...</td>\n",
       "      <td>...</td>\n",
       "      <td>...</td>\n",
       "      <td>...</td>\n",
       "      <td>...</td>\n",
       "      <td>...</td>\n",
       "      <td>...</td>\n",
       "      <td>...</td>\n",
       "      <td>...</td>\n",
       "      <td>...</td>\n",
       "      <td>...</td>\n",
       "      <td>...</td>\n",
       "      <td>...</td>\n",
       "    </tr>\n",
       "    <tr>\n",
       "      <th>221686</th>\n",
       "      <td>221687</td>\n",
       "      <td>WY01501</td>\n",
       "      <td>Cody</td>\n",
       "      <td>Municipal Police</td>\n",
       "      <td>Park</td>\n",
       "      <td>Wyoming</td>\n",
       "      <td>2012</td>\n",
       "      <td>February</td>\n",
       "      <td>0.0</td>\n",
       "      <td>Murder or Manslaughter</td>\n",
       "      <td>...</td>\n",
       "      <td>Unknown</td>\n",
       "      <td>Male</td>\n",
       "      <td>28</td>\n",
       "      <td>Native American/Alaska Native</td>\n",
       "      <td>Unknown</td>\n",
       "      <td>Wife</td>\n",
       "      <td>Knife</td>\n",
       "      <td>0</td>\n",
       "      <td>0</td>\n",
       "      <td>FBI</td>\n",
       "    </tr>\n",
       "    <tr>\n",
       "      <th>221687</th>\n",
       "      <td>221688</td>\n",
       "      <td>WY01701</td>\n",
       "      <td>Sheridan</td>\n",
       "      <td>Municipal Police</td>\n",
       "      <td>Sheridan</td>\n",
       "      <td>Wyoming</td>\n",
       "      <td>2012</td>\n",
       "      <td>September</td>\n",
       "      <td>0.0</td>\n",
       "      <td>Murder or Manslaughter</td>\n",
       "      <td>...</td>\n",
       "      <td>Unknown</td>\n",
       "      <td>Female</td>\n",
       "      <td>51</td>\n",
       "      <td>White</td>\n",
       "      <td>Unknown</td>\n",
       "      <td>Mother</td>\n",
       "      <td>Blunt Object</td>\n",
       "      <td>0</td>\n",
       "      <td>0</td>\n",
       "      <td>FBI</td>\n",
       "    </tr>\n",
       "    <tr>\n",
       "      <th>221688</th>\n",
       "      <td>221689</td>\n",
       "      <td>WY01900</td>\n",
       "      <td>Sweetwater County</td>\n",
       "      <td>Sheriff</td>\n",
       "      <td>Sweetwater</td>\n",
       "      <td>Wyoming</td>\n",
       "      <td>2012</td>\n",
       "      <td>August</td>\n",
       "      <td>0.0</td>\n",
       "      <td>Murder or Manslaughter</td>\n",
       "      <td>...</td>\n",
       "      <td>Unknown</td>\n",
       "      <td>Male</td>\n",
       "      <td>17</td>\n",
       "      <td>Asian/Pacific Islander</td>\n",
       "      <td>Unknown</td>\n",
       "      <td>Friend</td>\n",
       "      <td>Blunt Object</td>\n",
       "      <td>0</td>\n",
       "      <td>2</td>\n",
       "      <td>FBI</td>\n",
       "    </tr>\n",
       "    <tr>\n",
       "      <th>221689</th>\n",
       "      <td>221690</td>\n",
       "      <td>WY01902</td>\n",
       "      <td>Rock Springs</td>\n",
       "      <td>Municipal Police</td>\n",
       "      <td>Sweetwater</td>\n",
       "      <td>Wyoming</td>\n",
       "      <td>2012</td>\n",
       "      <td>February</td>\n",
       "      <td>0.0</td>\n",
       "      <td>Murder or Manslaughter</td>\n",
       "      <td>...</td>\n",
       "      <td>Unknown</td>\n",
       "      <td>Male</td>\n",
       "      <td>32</td>\n",
       "      <td>White</td>\n",
       "      <td>Unknown</td>\n",
       "      <td>Friend</td>\n",
       "      <td>Blunt Object</td>\n",
       "      <td>0</td>\n",
       "      <td>0</td>\n",
       "      <td>FBI</td>\n",
       "    </tr>\n",
       "    <tr>\n",
       "      <th>221690</th>\n",
       "      <td>221691</td>\n",
       "      <td>WY01902</td>\n",
       "      <td>Rock Springs</td>\n",
       "      <td>Municipal Police</td>\n",
       "      <td>Sweetwater</td>\n",
       "      <td>Wyoming</td>\n",
       "      <td>2012</td>\n",
       "      <td>July</td>\n",
       "      <td>0.0</td>\n",
       "      <td>Murder or Manslaughter</td>\n",
       "      <td>...</td>\n",
       "      <td>Unknown</td>\n",
       "      <td>Male</td>\n",
       "      <td>22</td>\n",
       "      <td>White</td>\n",
       "      <td>Unknown</td>\n",
       "      <td>Neighbor</td>\n",
       "      <td>Firearm</td>\n",
       "      <td>0</td>\n",
       "      <td>0</td>\n",
       "      <td>FBI</td>\n",
       "    </tr>\n",
       "  </tbody>\n",
       "</table>\n",
       "<p>221691 rows × 24 columns</p>\n",
       "</div>"
      ],
      "text/plain": [
       "        Record ID Agency Code        Agency Name       Agency Type  \\\n",
       "0               1     AK00101          Anchorage  Municipal Police   \n",
       "1               2     AK00101          Anchorage  Municipal Police   \n",
       "2               3     AK00101          Anchorage  Municipal Police   \n",
       "3               4     AK00101          Anchorage  Municipal Police   \n",
       "4               5     AK00101          Anchorage  Municipal Police   \n",
       "...           ...         ...                ...               ...   \n",
       "221686     221687     WY01501               Cody  Municipal Police   \n",
       "221687     221688     WY01701           Sheridan  Municipal Police   \n",
       "221688     221689     WY01900  Sweetwater County           Sheriff   \n",
       "221689     221690     WY01902       Rock Springs  Municipal Police   \n",
       "221690     221691     WY01902       Rock Springs  Municipal Police   \n",
       "\n",
       "              City    State  Year      Month  Incident  \\\n",
       "0        Anchorage   Alaska  2000    January       0.0   \n",
       "1        Anchorage   Alaska  2000    January       0.0   \n",
       "2        Anchorage   Alaska  2000    January       0.0   \n",
       "3        Anchorage   Alaska  2000   February       0.0   \n",
       "4        Anchorage   Alaska  2000      March       0.0   \n",
       "...            ...      ...   ...        ...       ...   \n",
       "221686        Park  Wyoming  2012   February       0.0   \n",
       "221687    Sheridan  Wyoming  2012  September       0.0   \n",
       "221688  Sweetwater  Wyoming  2012     August       0.0   \n",
       "221689  Sweetwater  Wyoming  2012   February       0.0   \n",
       "221690  Sweetwater  Wyoming  2012       July       0.0   \n",
       "\n",
       "                        Crime Type  ... Victim Ethnicity Perpetrator Sex  \\\n",
       "0           Murder or Manslaughter  ...          Unknown            Male   \n",
       "1           Murder or Manslaughter  ...          Unknown            Male   \n",
       "2       Manslaughter by Negligence  ...          Unknown            Male   \n",
       "3       Manslaughter by Negligence  ...          Unknown          Female   \n",
       "4           Murder or Manslaughter  ...          Unknown         Unknown   \n",
       "...                            ...  ...              ...             ...   \n",
       "221686      Murder or Manslaughter  ...          Unknown            Male   \n",
       "221687      Murder or Manslaughter  ...          Unknown          Female   \n",
       "221688      Murder or Manslaughter  ...          Unknown            Male   \n",
       "221689      Murder or Manslaughter  ...          Unknown            Male   \n",
       "221690      Murder or Manslaughter  ...          Unknown            Male   \n",
       "\n",
       "        Perpetrator Age               Perpetrator Race Perpetrator Ethnicity  \\\n",
       "0                    28                          Black               Unknown   \n",
       "1                    18  Native American/Alaska Native               Unknown   \n",
       "2                    12         Asian/Pacific Islander               Unknown   \n",
       "3                    39         Asian/Pacific Islander               Unknown   \n",
       "4                     0                        Unknown               Unknown   \n",
       "...                 ...                            ...                   ...   \n",
       "221686               28  Native American/Alaska Native               Unknown   \n",
       "221687               51                          White               Unknown   \n",
       "221688               17         Asian/Pacific Islander               Unknown   \n",
       "221689               32                          White               Unknown   \n",
       "221690               22                          White               Unknown   \n",
       "\n",
       "        Relationship        Weapon Victim Count Perpetrator Count  \\\n",
       "0               Wife       Handgun            0                 0   \n",
       "1            Unknown       Handgun            0                 1   \n",
       "2             Family  Blunt Object            0                 0   \n",
       "3       Acquaintance  Blunt Object            0                 0   \n",
       "4            Unknown         Knife            0                 0   \n",
       "...              ...           ...          ...               ...   \n",
       "221686          Wife         Knife            0                 0   \n",
       "221687        Mother  Blunt Object            0                 0   \n",
       "221688        Friend  Blunt Object            0                 2   \n",
       "221689        Friend  Blunt Object            0                 0   \n",
       "221690      Neighbor       Firearm            0                 0   \n",
       "\n",
       "       Record Source  \n",
       "0                FBI  \n",
       "1                FBI  \n",
       "2                FBI  \n",
       "3                FBI  \n",
       "4                FBI  \n",
       "...              ...  \n",
       "221686           FBI  \n",
       "221687           FBI  \n",
       "221688           FBI  \n",
       "221689           FBI  \n",
       "221690           FBI  \n",
       "\n",
       "[221691 rows x 24 columns]"
      ]
     },
     "execution_count": 10,
     "metadata": {},
     "output_type": "execute_result"
    }
   ],
   "source": [
    "#cd2=cd1.fillna(cd.median())\n",
    "#cd2\n",
    "cd.fillna(0)"
   ]
  },
  {
   "cell_type": "code",
   "execution_count": 11,
   "id": "a7a7b56c",
   "metadata": {},
   "outputs": [
    {
     "name": "stdout",
     "output_type": "stream",
     "text": [
      "Total number of crimes: 221691\n"
     ]
    }
   ],
   "source": [
    "#1. Find the total number of crimes\n",
    "print(\"Total number of crimes:\",cd1['Crime Type'].value_counts().sum())"
   ]
  },
  {
   "cell_type": "code",
   "execution_count": 13,
   "id": "0ce494d0",
   "metadata": {},
   "outputs": [
    {
     "name": "stdout",
     "output_type": "stream",
     "text": [
      "Unique number of Investigation Agency: 221691\n"
     ]
    }
   ],
   "source": [
    "#2. Find the Unique number of Investigation Agency\n",
    "print(\"Unique number of Investigation Agency:\",cd1['Agency Name'].value_counts().sum())"
   ]
  },
  {
   "cell_type": "code",
   "execution_count": 28,
   "id": "eb871a80",
   "metadata": {},
   "outputs": [
    {
     "data": {
      "text/plain": [
       "Agency Name\n",
       "Abbeville            29\n",
       "Abbeville County      3\n",
       "Aberdeen             27\n",
       "Aberdeen Township     2\n",
       "Abernathy             2\n",
       "                     ..\n",
       "Zeeland               3\n",
       "Zephyrhills           7\n",
       "Zolfo Springs         2\n",
       "Zumbrota              1\n",
       "Zuni Tribal           1\n",
       "Name: Crime Type, Length: 7142, dtype: int64"
      ]
     },
     "execution_count": 28,
     "metadata": {},
     "output_type": "execute_result"
    }
   ],
   "source": [
    "#3.Find the total number of crimes reported by each Investigation Agency.\n",
    "cd1.groupby('Agency Name').count()['Crime Type']"
   ]
  },
  {
   "cell_type": "code",
   "execution_count": 29,
   "id": "23a7600b",
   "metadata": {},
   "outputs": [
    {
     "data": {
      "text/plain": [
       "221691"
      ]
     },
     "execution_count": 29,
     "metadata": {},
     "output_type": "execute_result"
    }
   ],
   "source": [
    "#4.Find the unique number of Investigation Agency Type\n",
    "cd1['Agency Type'].value_counts().sum()"
   ]
  },
  {
   "cell_type": "code",
   "execution_count": 30,
   "id": "64c5db4a",
   "metadata": {},
   "outputs": [
    {
     "data": {
      "text/plain": [
       "Agency Type\n",
       "County Police         9553\n",
       "Municipal Police    168696\n",
       "Regional Police        104\n",
       "Sheriff              37442\n",
       "Special Police        1244\n",
       "State Police          4624\n",
       "Tribal Police           28\n",
       "Name: Crime Type, dtype: int64"
      ]
     },
     "execution_count": 30,
     "metadata": {},
     "output_type": "execute_result"
    }
   ],
   "source": [
    "#5. Find the total number of crimes by Investigation Agency Type\n",
    "cd1.groupby('Agency Type').count()['Crime Type']"
   ]
  },
  {
   "cell_type": "code",
   "execution_count": 31,
   "id": "72409d78",
   "metadata": {},
   "outputs": [
    {
     "data": {
      "text/plain": [
       "State\n",
       "Alabama                  3350\n",
       "Alaska                    558\n",
       "Arizona                  6017\n",
       "Arkansas                 2320\n",
       "California              32130\n",
       "Colorado                 2376\n",
       "Connecticut              1584\n",
       "Delaware                  556\n",
       "District of Columbia     1734\n",
       "Florida                 15231\n",
       "Georgia                  8168\n",
       "Hawaii                    375\n",
       "Idaho                     429\n",
       "Illinois                 7528\n",
       "Indiana                  4576\n",
       "Iowa                      691\n",
       "Kansas                   1376\n",
       "Kentucky                 2206\n",
       "Louisiana                7296\n",
       "Maine                     341\n",
       "Maryland                 6947\n",
       "Massachusetts            2309\n",
       "Michigan                 9268\n",
       "Minnesota                1576\n",
       "Mississippi              2473\n",
       "Missouri                 5532\n",
       "Montana                   294\n",
       "Nebraska                  495\n",
       "Nevada                   2567\n",
       "New Hampshire             206\n",
       "New Jersey               5439\n",
       "New Mexico               1857\n",
       "New York                11849\n",
       "North Carolina           7485\n",
       "North Dakota              125\n",
       "Ohio                     6834\n",
       "Oklahoma                 3066\n",
       "Oregon                   1263\n",
       "Pennsylvania             9879\n",
       "Rhodes Island             443\n",
       "South Carolina           4497\n",
       "South Dakota              205\n",
       "Tennessee                6015\n",
       "Texas                   19453\n",
       "Utah                      791\n",
       "Vermont                   162\n",
       "Virginia                 5415\n",
       "Washington               2807\n",
       "West Virginia             939\n",
       "Wisconsin                2461\n",
       "Wyoming                   197\n",
       "Name: Crime Type, dtype: int64"
      ]
     },
     "execution_count": 31,
     "metadata": {},
     "output_type": "execute_result"
    }
   ],
   "source": [
    "#6. Find the total number of crimes reported in each state\n",
    "cd1.groupby('State').count()['Crime Type']"
   ]
  },
  {
   "cell_type": "code",
   "execution_count": 34,
   "id": "f5162a67",
   "metadata": {},
   "outputs": [
    {
     "data": {
      "text/plain": [
       "Year\n",
       "2000    14671\n",
       "2001    15803\n",
       "2002    16268\n",
       "2003    16512\n",
       "2004    16233\n",
       "2005    16836\n",
       "2006    17275\n",
       "2007    17303\n",
       "2008    15595\n",
       "2009    15840\n",
       "2010    15121\n",
       "2011    14756\n",
       "2012    15033\n",
       "2013    14445\n",
       "Name: Crime Type, dtype: int64"
      ]
     },
     "execution_count": 34,
     "metadata": {},
     "output_type": "execute_result"
    }
   ],
   "source": [
    "#7. Find the total number of crimes in each year\n",
    "cd1.groupby('Year').count()['Crime Type']"
   ]
  },
  {
   "cell_type": "code",
   "execution_count": 35,
   "id": "d501bae5",
   "metadata": {},
   "outputs": [
    {
     "data": {
      "text/plain": [
       "Month      Year\n",
       "April      2000    1114\n",
       "           2001    1268\n",
       "           2002    1273\n",
       "           2003    1375\n",
       "           2004    1335\n",
       "                   ... \n",
       "September  2009    1266\n",
       "           2010    1252\n",
       "           2011    1248\n",
       "           2012    1308\n",
       "           2013    1169\n",
       "Name: Crime Type, Length: 168, dtype: int64"
      ]
     },
     "execution_count": 35,
     "metadata": {},
     "output_type": "execute_result"
    }
   ],
   "source": [
    "#8. Find the total number of crimes in each month and year\n",
    "cd1.groupby(['Month','Year']).count()['Crime Type']"
   ]
  },
  {
   "cell_type": "code",
   "execution_count": 39,
   "id": "1b41d719",
   "metadata": {},
   "outputs": [
    {
     "data": {
      "text/html": [
       "<div>\n",
       "<style scoped>\n",
       "    .dataframe tbody tr th:only-of-type {\n",
       "        vertical-align: middle;\n",
       "    }\n",
       "\n",
       "    .dataframe tbody tr th {\n",
       "        vertical-align: top;\n",
       "    }\n",
       "\n",
       "    .dataframe thead th {\n",
       "        text-align: right;\n",
       "    }\n",
       "</style>\n",
       "<table border=\"1\" class=\"dataframe\">\n",
       "  <thead>\n",
       "    <tr style=\"text-align: right;\">\n",
       "      <th></th>\n",
       "      <th>Record ID</th>\n",
       "      <th>Agency Code</th>\n",
       "      <th>Agency Name</th>\n",
       "      <th>Agency Type</th>\n",
       "      <th>City</th>\n",
       "      <th>State</th>\n",
       "      <th>Year</th>\n",
       "      <th>Month</th>\n",
       "      <th>Incident</th>\n",
       "      <th>Crime Solved</th>\n",
       "      <th>...</th>\n",
       "      <th>Victim Ethnicity</th>\n",
       "      <th>Perpetrator Sex</th>\n",
       "      <th>Perpetrator Age</th>\n",
       "      <th>Perpetrator Race</th>\n",
       "      <th>Perpetrator Ethnicity</th>\n",
       "      <th>Relationship</th>\n",
       "      <th>Weapon</th>\n",
       "      <th>Victim Count</th>\n",
       "      <th>Perpetrator Count</th>\n",
       "      <th>Record Source</th>\n",
       "    </tr>\n",
       "    <tr>\n",
       "      <th>Crime Type</th>\n",
       "      <th></th>\n",
       "      <th></th>\n",
       "      <th></th>\n",
       "      <th></th>\n",
       "      <th></th>\n",
       "      <th></th>\n",
       "      <th></th>\n",
       "      <th></th>\n",
       "      <th></th>\n",
       "      <th></th>\n",
       "      <th></th>\n",
       "      <th></th>\n",
       "      <th></th>\n",
       "      <th></th>\n",
       "      <th></th>\n",
       "      <th></th>\n",
       "      <th></th>\n",
       "      <th></th>\n",
       "      <th></th>\n",
       "      <th></th>\n",
       "      <th></th>\n",
       "    </tr>\n",
       "  </thead>\n",
       "  <tbody>\n",
       "    <tr>\n",
       "      <th>Manslaughter by Negligence</th>\n",
       "      <td>3449</td>\n",
       "      <td>3449</td>\n",
       "      <td>3449</td>\n",
       "      <td>3449</td>\n",
       "      <td>3449</td>\n",
       "      <td>3449</td>\n",
       "      <td>3449</td>\n",
       "      <td>3449</td>\n",
       "      <td>0</td>\n",
       "      <td>3449</td>\n",
       "      <td>...</td>\n",
       "      <td>3449</td>\n",
       "      <td>3449</td>\n",
       "      <td>3449</td>\n",
       "      <td>3449</td>\n",
       "      <td>3449</td>\n",
       "      <td>3449</td>\n",
       "      <td>3449</td>\n",
       "      <td>3449</td>\n",
       "      <td>3449</td>\n",
       "      <td>3449</td>\n",
       "    </tr>\n",
       "    <tr>\n",
       "      <th>Murder or Manslaughter</th>\n",
       "      <td>218242</td>\n",
       "      <td>218242</td>\n",
       "      <td>218242</td>\n",
       "      <td>218242</td>\n",
       "      <td>218242</td>\n",
       "      <td>218242</td>\n",
       "      <td>218242</td>\n",
       "      <td>218242</td>\n",
       "      <td>0</td>\n",
       "      <td>218242</td>\n",
       "      <td>...</td>\n",
       "      <td>218242</td>\n",
       "      <td>218242</td>\n",
       "      <td>218242</td>\n",
       "      <td>218242</td>\n",
       "      <td>218242</td>\n",
       "      <td>218242</td>\n",
       "      <td>218242</td>\n",
       "      <td>218242</td>\n",
       "      <td>218242</td>\n",
       "      <td>218242</td>\n",
       "    </tr>\n",
       "  </tbody>\n",
       "</table>\n",
       "<p>2 rows × 23 columns</p>\n",
       "</div>"
      ],
      "text/plain": [
       "                            Record ID  Agency Code  Agency Name  Agency Type  \\\n",
       "Crime Type                                                                     \n",
       "Manslaughter by Negligence       3449         3449         3449         3449   \n",
       "Murder or Manslaughter         218242       218242       218242       218242   \n",
       "\n",
       "                              City   State    Year   Month  Incident  \\\n",
       "Crime Type                                                             \n",
       "Manslaughter by Negligence    3449    3449    3449    3449         0   \n",
       "Murder or Manslaughter      218242  218242  218242  218242         0   \n",
       "\n",
       "                            Crime Solved  ...  Victim Ethnicity  \\\n",
       "Crime Type                                ...                     \n",
       "Manslaughter by Negligence          3449  ...              3449   \n",
       "Murder or Manslaughter            218242  ...            218242   \n",
       "\n",
       "                            Perpetrator Sex  Perpetrator Age  \\\n",
       "Crime Type                                                     \n",
       "Manslaughter by Negligence             3449             3449   \n",
       "Murder or Manslaughter               218242           218242   \n",
       "\n",
       "                            Perpetrator Race  Perpetrator Ethnicity  \\\n",
       "Crime Type                                                            \n",
       "Manslaughter by Negligence              3449                   3449   \n",
       "Murder or Manslaughter                218242                 218242   \n",
       "\n",
       "                            Relationship  Weapon  Victim Count  \\\n",
       "Crime Type                                                       \n",
       "Manslaughter by Negligence          3449    3449          3449   \n",
       "Murder or Manslaughter            218242  218242        218242   \n",
       "\n",
       "                            Perpetrator Count  Record Source  \n",
       "Crime Type                                                    \n",
       "Manslaughter by Negligence               3449           3449  \n",
       "Murder or Manslaughter                 218242         218242  \n",
       "\n",
       "[2 rows x 23 columns]"
      ]
     },
     "execution_count": 39,
     "metadata": {},
     "output_type": "execute_result"
    }
   ],
   "source": [
    "#9. Find the total number of crimes by crime type\n",
    "cd1.groupby('Crime Type').count()\n"
   ]
  },
  {
   "cell_type": "code",
   "execution_count": 40,
   "id": "a052daf8",
   "metadata": {},
   "outputs": [
    {
     "data": {
      "text/plain": [
       "Agency Name\n",
       "Abbeville            29\n",
       "Abbeville County      3\n",
       "Aberdeen             27\n",
       "Aberdeen Township     2\n",
       "Abernathy             2\n",
       "                     ..\n",
       "Zeeland               3\n",
       "Zephyrhills           7\n",
       "Zolfo Springs         2\n",
       "Zumbrota              1\n",
       "Zuni Tribal           1\n",
       "Name: Crime Type, Length: 7142, dtype: int64"
      ]
     },
     "execution_count": 40,
     "metadata": {},
     "output_type": "execute_result"
    }
   ],
   "source": [
    "#10. Find the total number of crime type and Investigation agency\n",
    "cd1.groupby('Agency Name').count()['Crime Type']"
   ]
  },
  {
   "cell_type": "code",
   "execution_count": 48,
   "id": "858cea85",
   "metadata": {},
   "outputs": [
    {
     "data": {
      "text/plain": [
       "Yes    153778\n",
       "No      67913\n",
       "Name: Crime Solved, dtype: int64"
      ]
     },
     "execution_count": 48,
     "metadata": {},
     "output_type": "execute_result"
    }
   ],
   "source": [
    "#11. Find the total number of solved crimes.??\n",
    "cd1['Crime Solved'].value_counts()"
   ]
  },
  {
   "cell_type": "code",
   "execution_count": 51,
   "id": "32237be0",
   "metadata": {},
   "outputs": [
    {
     "data": {
      "text/plain": [
       "Agency Name\n",
       "Abbeville            29\n",
       "Abbeville County      3\n",
       "Aberdeen             27\n",
       "Aberdeen Township     2\n",
       "Abernathy             2\n",
       "                     ..\n",
       "Zeeland               3\n",
       "Zephyrhills           7\n",
       "Zolfo Springs         2\n",
       "Zumbrota              1\n",
       "Zuni Tribal           1\n",
       "Name: Crime Solved, Length: 7142, dtype: int64"
      ]
     },
     "execution_count": 51,
     "metadata": {},
     "output_type": "execute_result"
    }
   ],
   "source": [
    "#12. Find the total number of solved crimes by investigation agency\n",
    "cd1.groupby('Agency Name').count()['Crime Solved']"
   ]
  },
  {
   "cell_type": "code",
   "execution_count": 47,
   "id": "782ac537",
   "metadata": {},
   "outputs": [],
   "source": [
    "#cd1.loc[cd1['Perpetrator Sex']=='Perpetrator Sex','Perpetrator Sex']='Male'\n",
    "#cd1"
   ]
  },
  {
   "cell_type": "code",
   "execution_count": 58,
   "id": "4c7159eb",
   "metadata": {},
   "outputs": [
    {
     "data": {
      "text/plain": [
       "Male       172999\n",
       "Female      48269\n",
       "Unknown       423\n",
       "Name: Victim Sex, dtype: int64"
      ]
     },
     "execution_count": 58,
     "metadata": {},
     "output_type": "execute_result"
    }
   ],
   "source": [
    "#13. Find the total number of victims by gender\n",
    "cd1['Victim Sex'].value_counts()"
   ]
  },
  {
   "cell_type": "code",
   "execution_count": 55,
   "id": "2565adae",
   "metadata": {},
   "outputs": [
    {
     "data": {
      "text/plain": [
       "Victim Race\n",
       "Asian/Pacific Islander             3868\n",
       "Black                            106752\n",
       "Native American/Alaska Native      1591\n",
       "Unknown                            2767\n",
       "White                            106713\n",
       "Name: Crime Type, dtype: int64"
      ]
     },
     "execution_count": 55,
     "metadata": {},
     "output_type": "execute_result"
    }
   ],
   "source": [
    "#14. Find the total number of crimes by victim race\n",
    "cd1.groupby('Victim Race').count()['Crime Type']"
   ]
  },
  {
   "cell_type": "code",
   "execution_count": 54,
   "id": "4cecda25",
   "metadata": {},
   "outputs": [
    {
     "data": {
      "text/plain": [
       "Index(['Record ID', 'Agency Code', 'Agency Name', 'Agency Type', 'City',\n",
       "       'State', 'Year', 'Month', 'Incident', 'Crime Type', 'Crime Solved',\n",
       "       'Victim Sex', 'Victim Age', 'Victim Race', 'Victim Ethnicity',\n",
       "       'Perpetrator Sex', 'Perpetrator Age', 'Perpetrator Race',\n",
       "       'Perpetrator Ethnicity', 'Relationship', 'Weapon', 'Victim Count',\n",
       "       'Perpetrator Count', 'Record Source'],\n",
       "      dtype='object')"
      ]
     },
     "execution_count": 54,
     "metadata": {},
     "output_type": "execute_result"
    }
   ],
   "source": [
    "cd1.columns"
   ]
  },
  {
   "cell_type": "code",
   "execution_count": 63,
   "id": "809fffee",
   "metadata": {},
   "outputs": [
    {
     "data": {
      "text/plain": [
       "Victim Sex  Agency Name      \n",
       "Female      Abbeville             4\n",
       "            Aberdeen              8\n",
       "            Aberdeen Township     1\n",
       "            Abernathy             1\n",
       "            Abilene              18\n",
       "                                 ..\n",
       "Unknown     Winter Garden         1\n",
       "            Woodbury              1\n",
       "            Wooster               1\n",
       "            Wytheville            1\n",
       "            Yakima                1\n",
       "Name: Crime Solved, Length: 11860, dtype: int64"
      ]
     },
     "execution_count": 63,
     "metadata": {},
     "output_type": "execute_result"
    }
   ],
   "source": [
    "#15. Find the total number of solved crimes by victim sex and Investigation Agency\n",
    "cd1.groupby(['Victim Sex','Agency Name']).count()['Crime Solved']"
   ]
  },
  {
   "cell_type": "code",
   "execution_count": 64,
   "id": "5df82bc8",
   "metadata": {},
   "outputs": [
    {
     "data": {
      "text/plain": [
       "Male       139446\n",
       "Unknown     68041\n",
       "Female      14204\n",
       "Name: Perpetrator Sex, dtype: int64"
      ]
     },
     "execution_count": 64,
     "metadata": {},
     "output_type": "execute_result"
    }
   ],
   "source": [
    "#16. Find the total number of Perpetrator by gender\n",
    "cd1['Perpetrator Sex'].value_counts()"
   ]
  },
  {
   "cell_type": "code",
   "execution_count": 71,
   "id": "0204329e",
   "metadata": {},
   "outputs": [
    {
     "data": {
      "text/plain": [
       "Perpetrator Sex  Perpetrator Ethnicity\n",
       "Female           Hispanic                   855\n",
       "                 Not Hispanic              3559\n",
       "                 Unknown                   9790\n",
       "Male             Hispanic                 14911\n",
       "                 Not Hispanic             32814\n",
       "                 Unknown                  91721\n",
       "Unknown          Hispanic                     7\n",
       "                 Not Hispanic                37\n",
       "                 Unknown                  67997\n",
       "Name: Perpetrator Race, dtype: int64"
      ]
     },
     "execution_count": 71,
     "metadata": {},
     "output_type": "execute_result"
    }
   ],
   "source": [
    "#17. Find the total number of Perpetrator by perpetrator race\n",
    "cd1.groupby(['Perpetrator Sex','Perpetrator Ethnicity']).count()['Perpetrator Race']"
   ]
  },
  {
   "cell_type": "code",
   "execution_count": 120,
   "id": "98b4b5e9",
   "metadata": {},
   "outputs": [
    {
     "data": {
      "text/plain": [
       "Perpetrator Sex  Perpetrator Ethnicity  Perpetrator Race  Victim Sex  Victim Ethnicity  Victim Race  Relationship\n",
       "Female           Hispanic               Black             Female      Hispanic          Black        Acquaintance    1\n",
       "                                                                                                     Friend          1\n",
       "                                                                                                     Stranger        1\n",
       "                                                                                        White        Daughter        1\n",
       "                                                          Male        Hispanic          Black        Family          1\n",
       "                                                                                                                    ..\n",
       "Unknown          Unknown                White             Male        Unknown           White        Acquaintance    2\n",
       "                                                                                                     Family          1\n",
       "                                                                                                     Friend          1\n",
       "                                                                                                     Stranger        1\n",
       "                                                                                                     Unknown         6\n",
       "Name: Crime Type, Length: 2441, dtype: int64"
      ]
     },
     "execution_count": 120,
     "metadata": {},
     "output_type": "execute_result"
    }
   ],
   "source": [
    "#18. Find the total number of crimes by relationship between perpetrator and the victim\n",
    "cd1.groupby(['Perpetrator Sex','Perpetrator Ethnicity','Perpetrator Race','Victim Sex','Victim Ethnicity','Victim Race','Relationship']).count()['Crime Type']"
   ]
  },
  {
   "cell_type": "code",
   "execution_count": 81,
   "id": "78754010",
   "metadata": {},
   "outputs": [
    {
     "data": {
      "text/plain": [
       "109611"
      ]
     },
     "execution_count": 81,
     "metadata": {},
     "output_type": "execute_result"
    }
   ],
   "source": [
    "#19. Find the mostly use weapon\n",
    "cd1['Weapon'].value_counts().max()"
   ]
  },
  {
   "cell_type": "code",
   "execution_count": 83,
   "id": "d66aec1d",
   "metadata": {},
   "outputs": [
    {
     "data": {
      "text/plain": [
       "Handgun          109611\n",
       "Knife             27371\n",
       "Firearm           25551\n",
       "Blunt Object      22654\n",
       "Unknown           15185\n",
       "Shotgun            6881\n",
       "Rifle              6524\n",
       "Strangulation      1814\n",
       "Fire               1696\n",
       "Suffocation        1532\n",
       "Gun                1395\n",
       "Drugs               886\n",
       "Drowning            299\n",
       "Poison              174\n",
       "Explosives           74\n",
       "Fall                 44\n",
       "Name: Weapon, dtype: int64"
      ]
     },
     "execution_count": 83,
     "metadata": {},
     "output_type": "execute_result"
    }
   ],
   "source": [
    "cd1['Weapon'].value_counts()#.max()"
   ]
  },
  {
   "cell_type": "code",
   "execution_count": 84,
   "id": "09b3cfa6",
   "metadata": {},
   "outputs": [
    {
     "data": {
      "text/plain": [
       "Index(['Record ID', 'Agency Code', 'Agency Name', 'Agency Type', 'City',\n",
       "       'State', 'Year', 'Month', 'Incident', 'Crime Type', 'Crime Solved',\n",
       "       'Victim Sex', 'Victim Age', 'Victim Race', 'Victim Ethnicity',\n",
       "       'Perpetrator Sex', 'Perpetrator Age', 'Perpetrator Race',\n",
       "       'Perpetrator Ethnicity', 'Relationship', 'Weapon', 'Victim Count',\n",
       "       'Perpetrator Count', 'Record Source'],\n",
       "      dtype='object')"
      ]
     },
     "execution_count": 84,
     "metadata": {},
     "output_type": "execute_result"
    }
   ],
   "source": [
    "cd1.columns"
   ]
  },
  {
   "cell_type": "code",
   "execution_count": 86,
   "id": "547fd535",
   "metadata": {},
   "outputs": [
    {
     "data": {
      "text/plain": [
       "State    City      \n",
       "Alabama  Autauga       13\n",
       "         Baldwin       52\n",
       "         Barbour       10\n",
       "         Bibb           1\n",
       "         Blount         6\n",
       "                       ..\n",
       "Wyoming  Sweetwater    19\n",
       "         Teton          2\n",
       "         Uinta          6\n",
       "         Washakie       2\n",
       "         Weston         2\n",
       "Name: Crime Type, Length: 2728, dtype: int64"
      ]
     },
     "execution_count": 86,
     "metadata": {},
     "output_type": "execute_result"
    }
   ],
   "source": [
    "#20. Find the total number of crimes by state and city\n",
    "cd1.groupby(['State','City']).count()['Crime Type']"
   ]
  },
  {
   "cell_type": "code",
   "execution_count": 87,
   "id": "3ce2ce4b",
   "metadata": {},
   "outputs": [
    {
     "data": {
      "text/plain": [
       "State    City      Agency Name\n",
       "Alabama  Autauga   Autauga        6\n",
       "                   Prattville     7\n",
       "         Baldwin   Baldwin        9\n",
       "                   Bay Minette    3\n",
       "                   Daphne         7\n",
       "                                 ..\n",
       "Wyoming  Uinta     Uinta          1\n",
       "         Washakie  Washakie       1\n",
       "                   Worland        1\n",
       "         Weston    Newcastle      1\n",
       "                   Weston         1\n",
       "Name: Crime Type, Length: 9728, dtype: int64"
      ]
     },
     "execution_count": 87,
     "metadata": {},
     "output_type": "execute_result"
    }
   ],
   "source": [
    "#21. Find the total number of crimes by state and city and investigation agency\n",
    "cd1.groupby(['State','City','Agency Name']).count()['Crime Type']"
   ]
  },
  {
   "cell_type": "code",
   "execution_count": 92,
   "id": "3b718f28",
   "metadata": {},
   "outputs": [
    {
     "data": {
      "text/plain": [
       "State    City      \n",
       "Alabama  Autauga       13\n",
       "         Baldwin       52\n",
       "         Barbour       10\n",
       "         Bibb           1\n",
       "         Blount         6\n",
       "                       ..\n",
       "Wyoming  Sweetwater    19\n",
       "         Teton          2\n",
       "         Uinta          6\n",
       "         Washakie       2\n",
       "         Weston         2\n",
       "Name: Crime Type, Length: 2728, dtype: int64"
      ]
     },
     "execution_count": 92,
     "metadata": {},
     "output_type": "execute_result"
    }
   ],
   "source": [
    "#22.Find the total number of crimes by stateand city by Crime Types\n",
    "cd1.groupby(['State','City']).count()['Crime Type']"
   ]
  },
  {
   "cell_type": "code",
   "execution_count": 97,
   "id": "cb24f4af",
   "metadata": {},
   "outputs": [
    {
     "name": "stderr",
     "output_type": "stream",
     "text": [
      "C:\\Users\\91984\\AppData\\Local\\Temp\\ipykernel_12216\\226043484.py:2: FutureWarning: The default value of numeric_only in DataFrameGroupBy.mean is deprecated. In a future version, numeric_only will default to False. Either specify numeric_only or select only columns which should be valid for the function.\n",
      "  cd1.groupby('Crime Type').mean()['Victim Age']\n"
     ]
    },
    {
     "data": {
      "text/plain": [
       "Crime Type\n",
       "Manslaughter by Negligence    27.423601\n",
       "Murder or Manslaughter        33.531355\n",
       "Name: Victim Age, dtype: float64"
      ]
     },
     "execution_count": 97,
     "metadata": {},
     "output_type": "execute_result"
    }
   ],
   "source": [
    "#23. Find the average age of victim in each crime type\n",
    "cd1.groupby('Crime Type').mean()['Victim Age']\n",
    "#cd1['Victim Age'].mean()['Crime Type']"
   ]
  },
  {
   "cell_type": "code",
   "execution_count": 98,
   "id": "03942a6a",
   "metadata": {},
   "outputs": [
    {
     "name": "stderr",
     "output_type": "stream",
     "text": [
      "C:\\Users\\91984\\AppData\\Local\\Temp\\ipykernel_12216\\2345924892.py:2: FutureWarning: The default value of numeric_only in DataFrameGroupBy.mean is deprecated. In a future version, numeric_only will default to False. Either specify numeric_only or select only columns which should be valid for the function.\n",
      "  cd1.groupby(['Crime Type','Victim Sex']).mean()['Victim Age']\n"
     ]
    },
    {
     "data": {
      "text/plain": [
       "Crime Type                  Victim Sex\n",
       "Manslaughter by Negligence  Female        26.486346\n",
       "                            Male          27.732710\n",
       "                            Unknown        6.200000\n",
       "Murder or Manslaughter      Female        36.864842\n",
       "                            Male          32.656578\n",
       "                            Unknown       11.174641\n",
       "Name: Victim Age, dtype: float64"
      ]
     },
     "execution_count": 98,
     "metadata": {},
     "output_type": "execute_result"
    }
   ],
   "source": [
    "#24. Find the average age of victim in Manslaughter by Negligence crime.\n",
    "cd1.groupby(['Crime Type','Victim Sex']).mean()['Victim Age']"
   ]
  },
  {
   "cell_type": "code",
   "execution_count": 99,
   "id": "332422fc",
   "metadata": {},
   "outputs": [
    {
     "name": "stderr",
     "output_type": "stream",
     "text": [
      "C:\\Users\\91984\\AppData\\Local\\Temp\\ipykernel_12216\\159289448.py:2: FutureWarning: The default value of numeric_only in DataFrameGroupBy.mean is deprecated. In a future version, numeric_only will default to False. Either specify numeric_only or select only columns which should be valid for the function.\n",
      "  cd1.groupby('Crime Type').mean()['Perpetrator Age']\n"
     ]
    },
    {
     "data": {
      "text/plain": [
       "Crime Type\n",
       "Manslaughter by Negligence    28.013627\n",
       "Murder or Manslaughter        19.933991\n",
       "Name: Perpetrator Age, dtype: float64"
      ]
     },
     "execution_count": 99,
     "metadata": {},
     "output_type": "execute_result"
    }
   ],
   "source": [
    "#25. Find the average age of Perpetrator in each crime type\n",
    "cd1.groupby('Crime Type').mean()['Perpetrator Age']"
   ]
  },
  {
   "cell_type": "code",
   "execution_count": 100,
   "id": "931e06ca",
   "metadata": {},
   "outputs": [
    {
     "name": "stderr",
     "output_type": "stream",
     "text": [
      "C:\\Users\\91984\\AppData\\Local\\Temp\\ipykernel_12216\\3796029186.py:2: FutureWarning: The default value of numeric_only in DataFrameGroupBy.mean is deprecated. In a future version, numeric_only will default to False. Either specify numeric_only or select only columns which should be valid for the function.\n",
      "  cd1.groupby(['Crime Type','Perpetrator Sex']).mean()['Perpetrator Age']\n"
     ]
    },
    {
     "data": {
      "text/plain": [
       "Crime Type                  Perpetrator Sex\n",
       "Manslaughter by Negligence  Female             29.589506\n",
       "                            Male               29.562309\n",
       "                            Unknown             0.594595\n",
       "Murder or Manslaughter      Female             32.748008\n",
       "                            Male               28.431609\n",
       "                            Unknown             0.238815\n",
       "Name: Perpetrator Age, dtype: float64"
      ]
     },
     "execution_count": 100,
     "metadata": {},
     "output_type": "execute_result"
    }
   ],
   "source": [
    "#26. Find the average age of Perpetrator in Murder or Manslaughter crime\n",
    "cd1.groupby(['Crime Type','Perpetrator Sex']).mean()['Perpetrator Age']"
   ]
  },
  {
   "cell_type": "code",
   "execution_count": 105,
   "id": "c245171d",
   "metadata": {},
   "outputs": [
    {
     "data": {
      "text/plain": [
       "Text(0.5, 1.0, 'Status')"
      ]
     },
     "execution_count": 105,
     "metadata": {},
     "output_type": "execute_result"
    },
    {
     "data": {
      "image/png": "[encoded data removed]",
      "text/plain": [
       "<Figure size 640x480 with 1 Axes>"
      ]
     },
     "metadata": {},
     "output_type": "display_data"
    }
   ],
   "source": [
    "#27. Create a pie chart to show most weapons used in the crime.\n",
    "cd1['Weapon'].value_counts().plot(kind='pie',autopct='%1.2f%%')\n",
    "cd1\n",
    "plt.title('Status')"
   ]
  },
  {
   "cell_type": "code",
   "execution_count": 107,
   "id": "92dfb02d",
   "metadata": {},
   "outputs": [
    {
     "data": {
      "image/png": "[encoded data removed]",
      "text/plain": [
       "<Figure size 640x480 with 1 Axes>"
      ]
     },
     "metadata": {},
     "output_type": "display_data"
    }
   ],
   "source": [
    "#28. Create visualization plots for all the possible questions. (bring appropriate charts, charts should be modified and it should be readable)\n",
    "cd1['Weapon'].value_counts(normalize= True)\n",
    "cd1['Weapon'].value_counts(dropna= False).plot.bar(color='black')\n",
    "plt.title('Weapon')\n",
    "plt.xlabel('Weapon')\n",
    "plt.ylabel('Count')\n",
    "plt.show()"
   ]
  },
  {
   "cell_type": "code",
   "execution_count": 113,
   "id": "f51ec211",
   "metadata": {},
   "outputs": [
    {
     "data": {
      "image/png": "[encoded data removed]",
      "text/plain": [
       "<Figure size 640x480 with 1 Axes>"
      ]
     },
     "metadata": {},
     "output_type": "display_data"
    }
   ],
   "source": [
    "cd1['Month'].value_counts(normalize= True)\n",
    "cd1['Month'].value_counts(dropna= False).plot.barh(color='green')\n",
    "plt.title('Month')\n",
    "plt.xlabel('Month')\n",
    "plt.ylabel('Count')\n",
    "plt.show()"
   ]
  },
  {
   "cell_type": "code",
   "execution_count": 117,
   "id": "1757fdd2",
   "metadata": {},
   "outputs": [
    {
     "data": {
      "image/png": "[encoded data removed]",
      "text/plain": [
       "<Figure size 640x480 with 1 Axes>"
      ]
     },
     "metadata": {},
     "output_type": "display_data"
    }
   ],
   "source": [
    "cd1['Victim Race'].value_counts(normalize= True)\n",
    "cd1['Victim Race'].value_counts(dropna= False).plot.bar(color='yellow')\n",
    "plt.title('Victim Race')\n",
    "plt.xlabel('Victim Race')\n",
    "plt.ylabel('Count')\n",
    "plt.show()"
   ]
  },
  {
   "cell_type": "code",
   "execution_count": 118,
   "id": "8371a76e",
   "metadata": {},
   "outputs": [
    {
     "data": {
      "image/png": "[encoded data removed]",
      "text/plain": [
       "<Figure size 640x480 with 1 Axes>"
      ]
     },
     "metadata": {},
     "output_type": "display_data"
    }
   ],
   "source": [
    "cd1['Perpetrator Race'].value_counts(normalize= True)\n",
    "cd1['Perpetrator Race'].value_counts(dropna= False).plot.bar(color='orange')\n",
    "plt.title('Perpetrator Race')\n",
    "plt.xlabel('Perpetrator Race')\n",
    "plt.ylabel('Count')\n",
    "plt.show()"
   ]
  },
  {
   "cell_type": "code",
   "execution_count": 122,
   "id": "8aa9ef0e",
   "metadata": {},
   "outputs": [
    {
     "data": {
      "image/png": "[encoded data removed]",
      "text/plain": [
       "<Figure size 640x480 with 1 Axes>"
      ]
     },
     "metadata": {},
     "output_type": "display_data"
    }
   ],
   "source": [
    "cd1['Relationship'].value_counts(normalize= True)\n",
    "cd1['Relationship'].value_counts(dropna= False).plot.bar(color='brown')\n",
    "plt.title('Relationship')\n",
    "plt.xlabel('Relationship')\n",
    "plt.ylabel('Count')\n",
    "plt.show()"
   ]
  },
  {
   "cell_type": "code",
   "execution_count": null,
   "id": "1a2e60d3",
   "metadata": {},
   "outputs": [],
   "source": []
  }
 ],
 "metadata": {
  "kernelspec": {
   "display_name": "Python 3 (ipykernel)",
   "language": "python",
   "name": "python3"
  },
  "language_info": {
   "codemirror_mode": {
    "name": "ipython",
    "version": 3
   },
   "file_extension": ".py",
   "mimetype": "text/x-python",
   "name": "python",
   "nbconvert_exporter": "python",
   "pygments_lexer": "ipython3",
   "version": "3.10.9"
  }
 },
 "nbformat": 4,
 "nbformat_minor": 5
}
